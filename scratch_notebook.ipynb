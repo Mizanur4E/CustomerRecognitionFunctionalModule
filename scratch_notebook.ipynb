{
 "cells": [
  {
   "cell_type": "markdown",
   "source": [
    "# Reforming embedding vector and storing to database"
   ],
   "metadata": {
    "collapsed": false
   }
  },
  {
   "cell_type": "code",
   "execution_count": 2,
   "outputs": [
    {
     "data": {
      "text/plain": "     ID    Name         0         1         2         3         4         5  \\\n0     0  Taufiq  0.069142 -0.073751  0.006923 -0.046116 -0.011825 -0.039105   \n1     0  Taufiq  0.057503 -0.033950  0.035315 -0.040212 -0.013937 -0.076416   \n2     0  Taufiq  0.054656 -0.051435 -0.006260 -0.039825  0.004260 -0.054023   \n3     0  Taufiq  0.055511 -0.042475  0.009054 -0.048174 -0.018067 -0.059855   \n4     0  Taufiq  0.070662 -0.015240  0.032206 -0.069778  0.001434 -0.065043   \n..   ..     ...       ...       ...       ...       ...       ...       ...   \n331  23  Shamim  0.014831 -0.067789  0.014980  0.011712 -0.003217 -0.025228   \n332  23  Shamim -0.006516 -0.060191  0.008171  0.017038  0.018588 -0.020872   \n333  23  Shamim -0.003160 -0.058766  0.012385  0.044061 -0.011214 -0.020975   \n334  23  Shamim -0.014060 -0.061962 -0.011366  0.012576 -0.004787 -0.020102   \n335  23  Shamim -0.002324 -0.046333  0.024917 -0.011361  0.023973 -0.032599   \n\n            6         7  ...       502       503       504       505  \\\n0   -0.083435  0.058255  ...  0.001195  0.019125  0.126797 -0.000127   \n1   -0.065176  0.061475  ...  0.022566  0.018541  0.109560  0.011451   \n2   -0.064597  0.065633  ...  0.000886  0.025934  0.109343  0.000195   \n3   -0.064681  0.071633  ...  0.018057  0.034947  0.105358  0.017326   \n4   -0.059696  0.064626  ...  0.022270  0.017610  0.106384  0.011225   \n..        ...       ...  ...       ...       ...       ...       ...   \n331  0.006663  0.048180  ... -0.033449  0.012720  0.005864 -0.032764   \n332  0.006240  0.029679  ... -0.072534 -0.006747 -0.013288 -0.018142   \n333  0.056631 -0.003419  ... -0.048785  0.052804 -0.013514 -0.027410   \n334  0.002698  0.018598  ... -0.075385  0.010792 -0.013015 -0.023853   \n335  0.017923  0.033043  ... -0.052843  0.006375 -0.001878 -0.023565   \n\n          506       507       508       509       510       511  \n0   -0.010205  0.016986  0.031015 -0.016855 -0.053175 -0.056179  \n1   -0.012414  0.012907  0.077091 -0.030490 -0.014722 -0.026513  \n2    0.024317  0.049969  0.027593 -0.002905 -0.037219 -0.036503  \n3    0.002253  0.015173  0.033482 -0.032342 -0.058163 -0.050611  \n4   -0.030861 -0.006642  0.065881 -0.032527 -0.020178 -0.050314  \n..        ...       ...       ...       ...       ...       ...  \n331  0.038940  0.008811 -0.009773 -0.051231  0.041074  0.028078  \n332  0.050029  0.044783 -0.003868 -0.041999  0.008945  0.021267  \n333  0.037022  0.022050 -0.014504 -0.056171  0.044675  0.024010  \n334  0.034429  0.008378 -0.040125 -0.062277  0.053744  0.033205  \n335  0.034532  0.038842  0.012187 -0.049598  0.033395  0.021893  \n\n[336 rows x 514 columns]",
      "text/html": "<div>\n<style scoped>\n    .dataframe tbody tr th:only-of-type {\n        vertical-align: middle;\n    }\n\n    .dataframe tbody tr th {\n        vertical-align: top;\n    }\n\n    .dataframe thead th {\n        text-align: right;\n    }\n</style>\n<table border=\"1\" class=\"dataframe\">\n  <thead>\n    <tr style=\"text-align: right;\">\n      <th></th>\n      <th>ID</th>\n      <th>Name</th>\n      <th>0</th>\n      <th>1</th>\n      <th>2</th>\n      <th>3</th>\n      <th>4</th>\n      <th>5</th>\n      <th>6</th>\n      <th>7</th>\n      <th>...</th>\n      <th>502</th>\n      <th>503</th>\n      <th>504</th>\n      <th>505</th>\n      <th>506</th>\n      <th>507</th>\n      <th>508</th>\n      <th>509</th>\n      <th>510</th>\n      <th>511</th>\n    </tr>\n  </thead>\n  <tbody>\n    <tr>\n      <th>0</th>\n      <td>0</td>\n      <td>Taufiq</td>\n      <td>0.069142</td>\n      <td>-0.073751</td>\n      <td>0.006923</td>\n      <td>-0.046116</td>\n      <td>-0.011825</td>\n      <td>-0.039105</td>\n      <td>-0.083435</td>\n      <td>0.058255</td>\n      <td>...</td>\n      <td>0.001195</td>\n      <td>0.019125</td>\n      <td>0.126797</td>\n      <td>-0.000127</td>\n      <td>-0.010205</td>\n      <td>0.016986</td>\n      <td>0.031015</td>\n      <td>-0.016855</td>\n      <td>-0.053175</td>\n      <td>-0.056179</td>\n    </tr>\n    <tr>\n      <th>1</th>\n      <td>0</td>\n      <td>Taufiq</td>\n      <td>0.057503</td>\n      <td>-0.033950</td>\n      <td>0.035315</td>\n      <td>-0.040212</td>\n      <td>-0.013937</td>\n      <td>-0.076416</td>\n      <td>-0.065176</td>\n      <td>0.061475</td>\n      <td>...</td>\n      <td>0.022566</td>\n      <td>0.018541</td>\n      <td>0.109560</td>\n      <td>0.011451</td>\n      <td>-0.012414</td>\n      <td>0.012907</td>\n      <td>0.077091</td>\n      <td>-0.030490</td>\n      <td>-0.014722</td>\n      <td>-0.026513</td>\n    </tr>\n    <tr>\n      <th>2</th>\n      <td>0</td>\n      <td>Taufiq</td>\n      <td>0.054656</td>\n      <td>-0.051435</td>\n      <td>-0.006260</td>\n      <td>-0.039825</td>\n      <td>0.004260</td>\n      <td>-0.054023</td>\n      <td>-0.064597</td>\n      <td>0.065633</td>\n      <td>...</td>\n      <td>0.000886</td>\n      <td>0.025934</td>\n      <td>0.109343</td>\n      <td>0.000195</td>\n      <td>0.024317</td>\n      <td>0.049969</td>\n      <td>0.027593</td>\n      <td>-0.002905</td>\n      <td>-0.037219</td>\n      <td>-0.036503</td>\n    </tr>\n    <tr>\n      <th>3</th>\n      <td>0</td>\n      <td>Taufiq</td>\n      <td>0.055511</td>\n      <td>-0.042475</td>\n      <td>0.009054</td>\n      <td>-0.048174</td>\n      <td>-0.018067</td>\n      <td>-0.059855</td>\n      <td>-0.064681</td>\n      <td>0.071633</td>\n      <td>...</td>\n      <td>0.018057</td>\n      <td>0.034947</td>\n      <td>0.105358</td>\n      <td>0.017326</td>\n      <td>0.002253</td>\n      <td>0.015173</td>\n      <td>0.033482</td>\n      <td>-0.032342</td>\n      <td>-0.058163</td>\n      <td>-0.050611</td>\n    </tr>\n    <tr>\n      <th>4</th>\n      <td>0</td>\n      <td>Taufiq</td>\n      <td>0.070662</td>\n      <td>-0.015240</td>\n      <td>0.032206</td>\n      <td>-0.069778</td>\n      <td>0.001434</td>\n      <td>-0.065043</td>\n      <td>-0.059696</td>\n      <td>0.064626</td>\n      <td>...</td>\n      <td>0.022270</td>\n      <td>0.017610</td>\n      <td>0.106384</td>\n      <td>0.011225</td>\n      <td>-0.030861</td>\n      <td>-0.006642</td>\n      <td>0.065881</td>\n      <td>-0.032527</td>\n      <td>-0.020178</td>\n      <td>-0.050314</td>\n    </tr>\n    <tr>\n      <th>...</th>\n      <td>...</td>\n      <td>...</td>\n      <td>...</td>\n      <td>...</td>\n      <td>...</td>\n      <td>...</td>\n      <td>...</td>\n      <td>...</td>\n      <td>...</td>\n      <td>...</td>\n      <td>...</td>\n      <td>...</td>\n      <td>...</td>\n      <td>...</td>\n      <td>...</td>\n      <td>...</td>\n      <td>...</td>\n      <td>...</td>\n      <td>...</td>\n      <td>...</td>\n      <td>...</td>\n    </tr>\n    <tr>\n      <th>331</th>\n      <td>23</td>\n      <td>Shamim</td>\n      <td>0.014831</td>\n      <td>-0.067789</td>\n      <td>0.014980</td>\n      <td>0.011712</td>\n      <td>-0.003217</td>\n      <td>-0.025228</td>\n      <td>0.006663</td>\n      <td>0.048180</td>\n      <td>...</td>\n      <td>-0.033449</td>\n      <td>0.012720</td>\n      <td>0.005864</td>\n      <td>-0.032764</td>\n      <td>0.038940</td>\n      <td>0.008811</td>\n      <td>-0.009773</td>\n      <td>-0.051231</td>\n      <td>0.041074</td>\n      <td>0.028078</td>\n    </tr>\n    <tr>\n      <th>332</th>\n      <td>23</td>\n      <td>Shamim</td>\n      <td>-0.006516</td>\n      <td>-0.060191</td>\n      <td>0.008171</td>\n      <td>0.017038</td>\n      <td>0.018588</td>\n      <td>-0.020872</td>\n      <td>0.006240</td>\n      <td>0.029679</td>\n      <td>...</td>\n      <td>-0.072534</td>\n      <td>-0.006747</td>\n      <td>-0.013288</td>\n      <td>-0.018142</td>\n      <td>0.050029</td>\n      <td>0.044783</td>\n      <td>-0.003868</td>\n      <td>-0.041999</td>\n      <td>0.008945</td>\n      <td>0.021267</td>\n    </tr>\n    <tr>\n      <th>333</th>\n      <td>23</td>\n      <td>Shamim</td>\n      <td>-0.003160</td>\n      <td>-0.058766</td>\n      <td>0.012385</td>\n      <td>0.044061</td>\n      <td>-0.011214</td>\n      <td>-0.020975</td>\n      <td>0.056631</td>\n      <td>-0.003419</td>\n      <td>...</td>\n      <td>-0.048785</td>\n      <td>0.052804</td>\n      <td>-0.013514</td>\n      <td>-0.027410</td>\n      <td>0.037022</td>\n      <td>0.022050</td>\n      <td>-0.014504</td>\n      <td>-0.056171</td>\n      <td>0.044675</td>\n      <td>0.024010</td>\n    </tr>\n    <tr>\n      <th>334</th>\n      <td>23</td>\n      <td>Shamim</td>\n      <td>-0.014060</td>\n      <td>-0.061962</td>\n      <td>-0.011366</td>\n      <td>0.012576</td>\n      <td>-0.004787</td>\n      <td>-0.020102</td>\n      <td>0.002698</td>\n      <td>0.018598</td>\n      <td>...</td>\n      <td>-0.075385</td>\n      <td>0.010792</td>\n      <td>-0.013015</td>\n      <td>-0.023853</td>\n      <td>0.034429</td>\n      <td>0.008378</td>\n      <td>-0.040125</td>\n      <td>-0.062277</td>\n      <td>0.053744</td>\n      <td>0.033205</td>\n    </tr>\n    <tr>\n      <th>335</th>\n      <td>23</td>\n      <td>Shamim</td>\n      <td>-0.002324</td>\n      <td>-0.046333</td>\n      <td>0.024917</td>\n      <td>-0.011361</td>\n      <td>0.023973</td>\n      <td>-0.032599</td>\n      <td>0.017923</td>\n      <td>0.033043</td>\n      <td>...</td>\n      <td>-0.052843</td>\n      <td>0.006375</td>\n      <td>-0.001878</td>\n      <td>-0.023565</td>\n      <td>0.034532</td>\n      <td>0.038842</td>\n      <td>0.012187</td>\n      <td>-0.049598</td>\n      <td>0.033395</td>\n      <td>0.021893</td>\n    </tr>\n  </tbody>\n</table>\n<p>336 rows × 514 columns</p>\n</div>"
     },
     "execution_count": 2,
     "metadata": {},
     "output_type": "execute_result"
    }
   ],
   "source": [
    "import pandas as pd\n",
    "\n",
    "import numpy as np\n",
    "df = pd.read_csv('/home/nayan/MIS_Face_DB.csv')\n",
    "df.head(500)"
   ],
   "metadata": {
    "collapsed": false
   }
  },
  {
   "cell_type": "code",
   "execution_count": 30,
   "outputs": [],
   "source": [
    "out_df = pd.DataFrame()\n",
    "db = []\n",
    "for i in range(len(df)):\n",
    "    a = df.loc[i]\n",
    "    em = a[2:514]\n",
    "    em = np.array(em)\n",
    "    entry = list(a[0:2])\n",
    "    entry.append(str(em))\n",
    "    db.append(entry)"
   ],
   "metadata": {
    "collapsed": false
   }
  },
  {
   "cell_type": "code",
   "execution_count": 74,
   "outputs": [],
   "source": [
    "db = np.array(db)\n",
    "print(db)"
   ],
   "metadata": {
    "collapsed": false
   }
  },
  {
   "cell_type": "code",
   "execution_count": 32,
   "outputs": [
    {
     "data": {
      "text/plain": "  index    name                                          embedding\n0     0  Taufiq  [0.06914231 -0.073750846 0.00692339 -0.0461162...\n1     0  Taufiq  [0.05750265 -0.033950254 0.035315044 -0.040212...\n2     0  Taufiq  [0.05465557 -0.05143523 -0.0062603485 -0.03982...\n3     0  Taufiq  [0.055511218 -0.04247488 0.009053543 -0.048174...\n4     0  Taufiq  [0.070662454 -0.015239747 0.032205828 -0.06977...",
      "text/html": "<div>\n<style scoped>\n    .dataframe tbody tr th:only-of-type {\n        vertical-align: middle;\n    }\n\n    .dataframe tbody tr th {\n        vertical-align: top;\n    }\n\n    .dataframe thead th {\n        text-align: right;\n    }\n</style>\n<table border=\"1\" class=\"dataframe\">\n  <thead>\n    <tr style=\"text-align: right;\">\n      <th></th>\n      <th>index</th>\n      <th>name</th>\n      <th>embedding</th>\n    </tr>\n  </thead>\n  <tbody>\n    <tr>\n      <th>0</th>\n      <td>0</td>\n      <td>Taufiq</td>\n      <td>[0.06914231 -0.073750846 0.00692339 -0.0461162...</td>\n    </tr>\n    <tr>\n      <th>1</th>\n      <td>0</td>\n      <td>Taufiq</td>\n      <td>[0.05750265 -0.033950254 0.035315044 -0.040212...</td>\n    </tr>\n    <tr>\n      <th>2</th>\n      <td>0</td>\n      <td>Taufiq</td>\n      <td>[0.05465557 -0.05143523 -0.0062603485 -0.03982...</td>\n    </tr>\n    <tr>\n      <th>3</th>\n      <td>0</td>\n      <td>Taufiq</td>\n      <td>[0.055511218 -0.04247488 0.009053543 -0.048174...</td>\n    </tr>\n    <tr>\n      <th>4</th>\n      <td>0</td>\n      <td>Taufiq</td>\n      <td>[0.070662454 -0.015239747 0.032205828 -0.06977...</td>\n    </tr>\n  </tbody>\n</table>\n</div>"
     },
     "execution_count": 32,
     "metadata": {},
     "output_type": "execute_result"
    }
   ],
   "source": [
    "out_df = pd.DataFrame(db, columns=['index', 'name', 'embedding'])\n",
    "out_df['embedding'] = out_df['embedding'].replace(to_replace='\\n', value='', regex=True)\n",
    "out_df.head()\n"
   ],
   "metadata": {
    "collapsed": false
   }
  },
  {
   "cell_type": "code",
   "execution_count": 36,
   "outputs": [],
   "source": [
    "#out_df.to_csv('database_final4.csv')"
   ],
   "metadata": {
    "collapsed": false
   }
  },
  {
   "cell_type": "markdown",
   "source": [],
   "metadata": {
    "collapsed": false
   }
  },
  {
   "cell_type": "code",
   "execution_count": null,
   "outputs": [],
   "source": [
    "import sklearn\n",
    "sklearn.metrics.pairwise.cos"
   ],
   "metadata": {
    "collapsed": false
   }
  },
  {
   "cell_type": "markdown",
   "source": [
    "## Communicating with werver"
   ],
   "metadata": {
    "collapsed": false
   }
  },
  {
   "cell_type": "code",
   "execution_count": 77,
   "outputs": [
    {
     "name": "stdout",
     "output_type": "stream",
     "text": [
      "<pyodbc.Connection object at 0x7fde6149d1f0>\n"
     ]
    }
   ],
   "source": [
    "import pyodbc\n",
    "import numpy as np\n",
    "def connect_to_DB():\n",
    "    odbc_driver = '{ODBC Driver 17 for SQL Server}'\n",
    "    native_driver = '{SQL Server Native Client 11.0}'\n",
    "\n",
    "    driver = native_driver\n",
    "    conn = None\n",
    "    if sys.platform == 'linux':\n",
    "        driver = odbc_driver\n",
    "    else:\n",
    "        driver = native_driver\n",
    "    conn = pyodbc.connect(\n",
    "        f\"\"\"Driver={driver};\n",
    "        Server=192.168.100.161;\n",
    "        Trusted_Connection=no;\n",
    "        Database=ShwapnoCustomerFaceEmbeddings;\n",
    "        UID=sa;\n",
    "        PWD=dataport;\"\"\"\n",
    "    )\n",
    "    return conn\n",
    "\n",
    "connection = connect_to_DB()\n",
    "connection.autocommit = True\n",
    "cursor = connection.cursor()\n",
    "print(connection)"
   ],
   "metadata": {
    "collapsed": false
   }
  },
  {
   "cell_type": "code",
   "execution_count": 87,
   "outputs": [],
   "source": [
    "memb = '[0.0000001 -0.073750846 0.00692339 -0.046116263 -0.011824601 -0.03910543 -0.08343514 0.058255225 -0.06876615 0.060405035 0.008668441 0.026630757 0.033342272 0.07310606 0.026508221 0.007964019 -0.05450647 -0.054621868 -0.056613166 -0.020727778 0.032795943 0.034569796 -0.012297629 0.04052128 0.014367114 0.025917869 0.016647315 -0.033338297 -0.025920125 -0.07211962 -0.0020951882 0.01928591 0.013818421 0.011482255 0.003797241 0.00029511238 0.027221328 -0.017840141 0.006539497 0.03884436 0.00011490041 0.087412946 -0.05173621 0.04362263 0.052014213 0.026788088 -0.0056148036 0.022030592 0.041285418 -0.046237584 -0.008882599 -0.03971014 0.094099194 0.0059116776 0.0012402551 0.060109153 0.0037040224 -0.070417926 0.056880876 0.041880004 -0.01091067 0.009999847 0.0527307 -0.033314466 -0.06616104 -0.0075888024 0.038749173 -0.03322247 -0.008124443 -0.06949105 0.024577934 -0.003025305 0.026864303 -0.016961405 -0.10509528 0.041728176 0.070153475 -0.06557689 0.020256963 -0.017596673 -0.034493446 -0.043717116 -0.06309916 0.022262609 0.015330555 0.025550224 0.05945773 0.042321023 -0.054034185 0.06728069 0.039094537 0.022660939 -0.03830566 -0.056134623 0.086020336 -0.035049405 -0.009533021 -0.045053184 -0.058090355 -0.045632273 -0.020807894 -8.7905006e-05 -0.0023111796 0.037913866 -0.009369926 -0.035161182 0.017276878 -0.09122324 0.011314017 0.053242125 0.10781385 -0.019509112 -0.034124423 0.039387297 -0.02569666 0.024556998 -0.04991428 -0.066106424 0.06757073 0.043223973 -0.0024709646 -0.01656804 0.021301402 0.013642819 -0.076022446 0.09975137 0.055875618 -0.039265294 0.034426633 0.034769703 0.04312581 0.10236309 -0.011893596 -0.0099396845 0.016855707 -0.049783435 0.029485036 -0.024973541 0.020086342 -0.07451568 0.049449056 0.0058028516 -0.03292009 0.018409435 -0.041197825 0.026406767 -0.0140806055 -0.014305696 -0.034140307 -0.03387741 0.04709129 0.031972177 -0.10230386 -0.03643058 -0.004675856 -0.001554038 0.01713196 0.017078929 0.016319986 0.09307149 -0.014383066 -0.017752318 0.01906579 0.028824368 0.07969359 0.022174992 0.019700509 -0.022888172 0.051621214 0.017588265 0.032811668 -0.049524646 -0.028657723 -0.021392629 -0.016967004 -0.033169113 0.06523517 -0.02204408 -0.013221355 -0.041000336 -0.043684576 0.0343461 0.08049629 -0.05284833 0.031498782 0.008589718 0.014368946 0.04141373 -0.014540272 -0.0032732654 0.005460486 0.014142145 -0.038791128 0.01933886 -0.0071892086 -0.038729984 0.070779726 0.024902217 0.03693585 -0.014804376 -0.06603071 -0.039487753 -0.0104040075 0.0070340587 -0.055847157 -0.016473157 0.09084567 0.015748492 0.013758483 -0.014899202 -0.027302494 0.0021885976 0.0008977208 0.07132323 0.0028157032 -0.035032894 -0.035720166 0.133032 0.0015452422 0.036439274 -0.024161259 -0.043476984 0.026611423 -0.0218223 -0.05657422 0.06587629 -0.017162489 0.039113224 0.020752115 -0.03515374 0.03447432 -0.08687482 0.040108014 0.034106594 0.071228676 -0.027633196 -0.019109963 0.058050387 0.06711998 0.12308362 0.077156365 0.0015121059 0.015447931 0.051955536 0.0074585574 0.047886994 0.041954905 0.01708669 -0.11104619 0.030890401 0.008645083 -0.06548989 -0.055930655 -0.012542432 0.04996033 -0.02646813 0.035807677 0.023399197 0.009649783 0.005518369 0.042521592 -0.019294104 0.03021921 -0.052637324 0.014293847 0.01506699 0.021791583 -0.010000715 -0.03065678 -0.07010336 -0.06895632 0.0053646285 0.024330981 -0.031026116 -0.07185747 0.07596634 -0.0069285715 -0.00029856517 -0.006107215 0.0067339386 0.0140743265 -0.020259121 0.029007247 0.0127634825 0.029111521 0.07763027 -0.0123616755 0.005308823 0.026157657 0.048733696 0.07522868 0.041480947 -0.093346104 -0.04366741 -0.011254441 -0.038737394 0.078458406 -0.063499704 0.018319096 -0.040504254 0.09656282 0.012613522 -0.011980172 0.101120606 -0.11524783 0.0042916997 -0.003986075 0.0133956745 -0.016657235 -0.049501937 -0.025692955 -0.023164678 -0.028781299 0.052311584 0.031397738 0.009169409 -0.0110361995 0.036691252 -0.05709376 0.019935464 0.023377648 -0.11971253 0.0127884 -0.023716252 0.0029178846 -0.0008340215 0.015498831 -0.011575915 -0.054080024 -0.04543865 -0.007912221 -0.05919757 0.032898623 -0.06072089 0.010697283 0.033923183 -0.032986753 -0.0262795 -0.00095984264 -0.08536833 -0.04809203 -0.0069052544 0.02736248 0.04847493 -0.08497749 -0.021406224 -0.056770843 -0.07833455 -0.048093442 -0.048845287 0.03615781 -0.033787243 0.040709183 -0.016937634 -0.026488602 0.0009460217 0.028800827 -0.0085622175 -0.07889838 -0.054659907 0.0010976681 -0.042812355 -0.005063358 0.019599708 0.01648847 -0.062675014 -0.017442629 0.00425695 -0.084593005 0.0032105418 -0.021855459 -0.0066740336 0.036326054 0.037862103 0.036383294 -0.08025163 -0.012013493 -0.0016964705 0.011993681 0.0058727376 0.03688806 -0.013823074 -0.011063014 0.016536884 0.012137728 -0.004834214 -0.028615827 -0.036967013 0.056636218 -0.07903047 -0.10489583 0.01220862 0.032618724 -0.005347016 0.0073224436 0.058085233 -0.056484513 0.009946911 0.027242173 0.012316745 0.040742915 0.06993989 -0.06322455 -0.099462196 -0.045984015 -0.076887675 0.0066319867 0.05691525 -0.045914873 -0.039090425 0.048840486 0.0068326853 0.027170934 0.0673227 -0.028488405 0.070698515 0.020139782 -0.043276053 -0.014874815 -0.022108758 -0.015333125 0.00044436767 0.037164036 0.05067119 -0.014451628 -0.022903305 -0.029592566 -0.032730665 0.02320771 0.074090995 -0.03682414 0.02790445 -0.02533692 0.008162007 -0.006784914 -0.010946958 0.06212523 0.06373072 -0.09275818 -0.008111956 -0.017406033 -0.050916553 0.08568296 0.034796547 -0.027760223 -0.009871472 0.033643886 -0.036669593 0.031068668 -0.05533738 -0.020998174 -0.04095857 -0.050411534 -0.018912813 0.046590045 -0.00493211 -0.065296106 0.05460608 0.0042323177 0.097925805 -0.014360131 -0.047747165 0.05180874 0.00263873 -0.024910014 0.035530314 0.05246663 0.038192917 0.008882977 0.06182462 -0.03034044 -0.042476084 -0.005109934 0.014859372 -0.103469566 0.008236848 -0.0026311781 0.07035213 -0.017254628 0.017341046 0.056674026 0.03634966 -0.05866126 -0.0060221977 -0.05305011 -0.0065491325 -0.0666433 0.088263474 -0.027559794 0.046463028 0.015856124 -0.023422735 0.004265753 -0.054188184 0.043995265 -0.06162744 0.049917072 0.033229295 -0.0051045865 0.028094493 -0.034531936 -0.022595575 0.0011950983 0.019125143 0.12679681 -0.00012686396 -0.010205005 0.016985614 0.031015428 -0.01685507 -0.053175036 -0.056178942]'\n",
    "a = \"INSERT INTO mytable(no,id,name,embedding) VALUES (337,2,'Tyagi',(?))\""
   ],
   "metadata": {
    "collapsed": false
   }
  },
  {
   "cell_type": "code",
   "execution_count": 88,
   "outputs": [
    {
     "data": {
      "text/plain": "<pyodbc.Cursor at 0x7fde614878b0>"
     },
     "execution_count": 88,
     "metadata": {},
     "output_type": "execute_result"
    }
   ],
   "source": [
    "cursor.execute(a, memb)"
   ],
   "metadata": {
    "collapsed": false
   }
  },
  {
   "cell_type": "code",
   "execution_count": 74,
   "outputs": [],
   "source": [
    "cursor.execute(\"SELECT * FROM mytable\")\n",
    "rows = cursor.fetchall()\n",
    "#cursor.execute(\"SELECT WORK_ORDER.TYPE,WORK_ORDER.STATUS, WORK_ORDER.BASE_ID, WORK_ORDER.LOT_ID FROM WORK_ORDER\")\n",
    "for row in rows:\n",
    "    a = row.embedding.split(' ')\n",
    "    print(a[1],type(a), len(a))"
   ],
   "metadata": {
    "collapsed": false
   }
  },
  {
   "cell_type": "markdown",
   "source": [
    "## Base Code"
   ],
   "metadata": {
    "collapsed": false
   }
  },
  {
   "cell_type": "code",
   "execution_count": null,
   "metadata": {
    "collapsed": true
   },
   "outputs": [],
   "source": [
    "import sys\n",
    "import pyodbc\n",
    "import numpy as np\n",
    "import pandas as pd\n",
    "import xgboost as xgb\n",
    "from imblearn.over_sampling import BorderlineSMOTE\n",
    "from datetime import datetime\n",
    "\n",
    "\n",
    "def get_group_info(group_id, group_info, applied_date):\n",
    "    group_info = pd.DataFrame(list(zip(group_id, group_info, applied_date)),\n",
    "                              columns=['GroupId', 'GroupInfo', 'AppliedDate'])\n",
    "    return group_info\n",
    "\n",
    "\n",
    "def get_master_data(training_id, training_date, write_back_time, df):\n",
    "    df.rename(columns={\n",
    "        #     'CustomerCode': 'customer_code',\n",
    "        '1': 'day_1',\n",
    "        '2': 'day_2',\n",
    "        '3': 'day_3',\n",
    "        '4': 'day_4',\n",
    "        '5': 'day_5',\n",
    "        '6': 'day_6',\n",
    "        '7': 'day_7',\n",
    "        '8': 'day_8'\n",
    "    }, inplace=True)\n",
    "    yyyy = datetime.today().year\n",
    "    mm = datetime.today().strftime('%m')\n",
    "    datetime_object = datetime.strptime(str(mm), \"%m\")\n",
    "    full_month_name = datetime_object.strftime(\"%B\")\n",
    "    full_month_name = full_month_name + \" - \" + str(yyyy)[2:]\n",
    "    master_info = pd.DataFrame(\n",
    "        columns=['TrainingId', 'TrainingDate', 'ForecustingFor', 'SourceDateStart', 'SourceDateEnd', 'WriteBackTime',\n",
    "                 'ForecastedMonth'])\n",
    "    master_info = master_info.append({'TrainingId': training_id,\n",
    "                                      'TrainingDate': training_date,\n",
    "                                      'ForecustingFor': str(yyyy) + str(mm),\n",
    "                                      'SourceDateStart': df['day_8'].min(),\n",
    "                                      'SourceDateEnd': df['day_1'].max(),\n",
    "                                      'WriteBackTime': write_back_time,\n",
    "                                      'ForecastedMonth': full_month_name}, ignore_index=True)\n",
    "    return master_info\n",
    "\n",
    "\n",
    "def _connect_to_lapsedb():\n",
    "    odbc_driver = '{ODBC Driver 17 for SQL Server}'\n",
    "    native_driver = '{SQL Server Native Client 11.0}'\n",
    "\n",
    "    driver = native_driver\n",
    "    conn = None\n",
    "    if sys.platform == 'linux':\n",
    "        driver = odbc_driver\n",
    "    else:\n",
    "        driver = native_driver\n",
    "    conn = pyodbc.connect(\n",
    "        f\"\"\"Driver={driver};\n",
    "        Server=192.168.11.206;\n",
    "        Database=LapseDB;\n",
    "        Trusted_Connection=no;\n",
    "        UID=sa;\n",
    "        PWD=flexiload;\"\"\"\n",
    "    )\n",
    "    return conn\n",
    "\n",
    "\n",
    "def _connect_to_epsmirror():\n",
    "    odbc_driver = '{ODBC Driver 17 for SQL Server}'\n",
    "    native_driver = '{SQL Server Native Client 11.0}'\n",
    "\n",
    "    driver = native_driver\n",
    "    conn = None\n",
    "    if sys.platform == 'linux':\n",
    "        driver = odbc_driver\n",
    "    else:\n",
    "        driver = native_driver\n",
    "    conn = pyodbc.connect(\n",
    "        f\"\"\"Driver={driver};\n",
    "        Server=192.168.11.200;\n",
    "        Trusted_Connection=no;\n",
    "        Database=EPSMirror;\n",
    "        UID=sa;\n",
    "        PWD=flexiload;\"\"\"\n",
    "    )\n",
    "    return conn\n",
    "\n",
    "\n",
    "class LapseDBUtil:\n",
    "    def _init_(self):\n",
    "        self.connection = _connect_to_lapsedb()\n",
    "        self.connection.autocommit = True\n",
    "        self.cursor = self.connection.cursor()\n",
    "        print(\"Connected to LapseDB\")\n",
    "\n",
    "        self.connection_epsmirror = _connect_to_epsmirror()\n",
    "        self.connection_epsmirror.autocommit = True\n",
    "        self.cursor_epsmirror = self.connection_epsmirror.cursor()\n",
    "        print(\"Connected to EPSMirror\")\n",
    "\n",
    "    def create_table(self, table_name):\n",
    "        if table_name == \"LapseDetails\":\n",
    "            try:\n",
    "                # self.cursor.execute(\"DROP TABLE NEXT_MONTH_PURCHASE_AMOUNT;\")\n",
    "                self.cursor.execute(\"CREATE TABLE LapseDetails(\" +\n",
    "                                    \"TrainingId INT,\" +\n",
    "                                    \"CustomerCode VARCHAR(20),\" +\n",
    "                                    \"PredictedGroup INT,\" +\n",
    "                                    \");\")\n",
    "                self.connection.commit()\n",
    "                print(\"LapseDetails Table Created\")\n",
    "            except Exception as e:\n",
    "                if \"already an object\" in str(e):\n",
    "                    pass\n",
    "                else:\n",
    "                    print(f'Error: {e}')\n",
    "        elif table_name == \"LapseMaster\":\n",
    "            try:\n",
    "                # self.cursor.execute(\"DROP TABLE NEXT_MONTH_PURCHASE_AMOUNT;\")\n",
    "                self.cursor.execute(\"CREATE TABLE LapseMaster(\" +\n",
    "                                    \"TrainingId INT PRIMARY KEY,\" +\n",
    "                                    \"TrainingDate DATETIME,\" +\n",
    "                                    \"ForecustingFor VARCHAR(6),\" +\n",
    "                                    \"SourceDateStart DATETIME,\" +\n",
    "                                    \"SourceDateEnd DATETIME,\" +\n",
    "                                    \"WriteBackTime DATETIME,\" +\n",
    "                                    \"ForecastedMonth VARCHAR(13),\" +\n",
    "                                    \");\")\n",
    "                self.connection.commit()\n",
    "                print(\"LapseMaster Table Created\")\n",
    "            except Exception as e:\n",
    "                if \"already an object\" in str(e):\n",
    "                    pass\n",
    "                else:\n",
    "                    print(f'Error: {e}')\n",
    "        elif table_name == \"LapsePredictedGroup\":\n",
    "            try:\n",
    "                # self.cursor.execute(\"DROP TABLE NEXT_MONTH_PURCHASE_AMOUNT;\")\n",
    "                self.cursor.execute(\"CREATE TABLE LapsePredictedGroup(\" +\n",
    "                                    \"GroupId INT PRIMARY KEY,\" +\n",
    "                                    \"GroupInfo VARCHAR(20),\" +\n",
    "                                    \"AppliedDate DATETIME,\" +\n",
    "                                    \");\")\n",
    "                self.connection.commit()\n",
    "                print(\"LapsePredictedGroup Table Created\")\n",
    "            except Exception as e:\n",
    "                if \"already an object\" in str(e):\n",
    "                    pass\n",
    "                else:\n",
    "                    print(f'Error: {e}')\n",
    "        else:\n",
    "            print(\"Table Name not in Schema\")\n",
    "\n",
    "    def insert(self, table_name, data_df):\n",
    "        if table_name == \"LapseDetails\":\n",
    "            sql = \"INSERT INTO LapseDetails (TrainingId, CustomerCode, PredictedGroup) \" \\\n",
    "                  \"VALUES (?, ?, ?)\"\n",
    "            print(\"Inserting into LapseDetails\")\n",
    "        elif table_name == \"LapseMaster\":\n",
    "            sql = \"INSERT INTO LapseMaster (TrainingId, TrainingDate, ForecustingFor, SourceDateStart, SourceDateEnd, WriteBackTime, ForecastedMonth) \" \\\n",
    "                  \"VALUES (?, ?, ?, ?, ?, ?, ?)\"\n",
    "            print(\"Inserting into LapseMaster\")\n",
    "        elif table_name == \"LapsePredictedGroup\":\n",
    "            sql = \"INSERT INTO LapsePredictedGroup (GroupId, GroupInfo, AppliedDate) \" \\\n",
    "                  \"VALUES (?, ?, ?)\"\n",
    "            print(\"Inserting into LapsePredictedGroup\")\n",
    "        try:\n",
    "            self.cursor.executemany(sql, data_df.values.tolist())\n",
    "            self.connection.commit()\n",
    "            print('Rows inserted')\n",
    "        except Exception as e:\n",
    "            print(e)\n",
    "\n",
    "    def get_purchase_dates(self):\n",
    "        try:\n",
    "            self.cursor_epsmirror.execute(\"EXEC SP_TrainingDateSetLapsePrediction 'Date'\")\n",
    "            # self.connection_epsmirror.commit()\n",
    "            columns = [column[0] for column in self.cursor_epsmirror.description]\n",
    "            data = self.cursor_epsmirror.fetchall()\n",
    "            rows = []\n",
    "            for customer in data:\n",
    "                row = []\n",
    "                for item in customer:\n",
    "                    row.append(item)\n",
    "                rows.append(row)\n",
    "            data_df = pd.DataFrame(rows, columns=columns)\n",
    "            for column in data_df.columns:\n",
    "                if column == 'CustomerCode':\n",
    "                    data_df[column] = data_df[column].astype(str)\n",
    "            return data_df\n",
    "        except Exception as e:\n",
    "            print(e)\n",
    "\n",
    "    def get_training_id(self):\n",
    "        sql = \"SELECT MAX(TrainingId) FROM LapseMaster\"\n",
    "        try:\n",
    "            self.cursor.execute(sql)\n",
    "            training_id = self.cursor.fetchone()[0] + 1\n",
    "            return training_id\n",
    "        except Exception as e:\n",
    "            print(e)\n",
    "\n",
    "    def update_lapse_customer_shopping_history(self, training_id):\n",
    "        sql = f'EXEC SP_LapsCustomerShoppingHistoryModified {training_id}'\n",
    "        try:\n",
    "            self.cursor.execute(sql)\n",
    "            self.connection.commit()\n",
    "        except Exception as e:\n",
    "            print(e)\n",
    "\n",
    "\n",
    "def _change_to_datetime(df):\n",
    "    cols = df.columns[1:]\n",
    "    for col in cols:\n",
    "        df[col] = pd.to_datetime(df[col], format='%Y-%m-%d')\n",
    "    return df\n",
    "\n",
    "\n",
    "class DataLoader:\n",
    "    def _init_(self, purchase_date):\n",
    "        # self.file_location = file_location\n",
    "        # self.xl_file = pd.ExcelFile(self.file_location, engine='openpyxl')\n",
    "        # self.purchase_date = pd.read_excel(self.xl_file, 'Trainee Data', engine='openpyxl')\n",
    "        # self.purchase_date = self.purchase_date.astype({'CustomerCode': 'str'})\n",
    "        self.purchase_date = purchase_date\n",
    "        self.purchase_date = self.purchase_date.iloc[:, 0:9]\n",
    "        self.purchase_date = _change_to_datetime(self.purchase_date)\n",
    "        self.purchase_date = self._data_preprocessor()\n",
    "\n",
    "    def _data_preprocessor(self):\n",
    "        purchase_date = self.purchase_date\n",
    "        purchase_date.dropna(inplace=True)\n",
    "        purchase_date.rename(columns={\n",
    "            #     'CustomerCode': 'customer_code',\n",
    "            '1': 'day_1',\n",
    "            '2': 'day_2',\n",
    "            '3': 'day_3',\n",
    "            '4': 'day_4',\n",
    "            '5': 'day_5',\n",
    "            '6': 'day_6',\n",
    "            '7': 'day_7',\n",
    "            '8': 'day_8'\n",
    "        }, inplace=True)\n",
    "        purchase_date['dd_0'] = (purchase_date['day_1'] - purchase_date['day_2']).dt.days\n",
    "        purchase_date['dd_1'] = (purchase_date['day_2'] - purchase_date['day_3']).dt.days\n",
    "        purchase_date['dd_2'] = (purchase_date['day_3'] - purchase_date['day_4']).dt.days\n",
    "        purchase_date['dd_3'] = (purchase_date['day_4'] - purchase_date['day_5']).dt.days\n",
    "        purchase_date['dd_4'] = (purchase_date['day_5'] - purchase_date['day_6']).dt.days\n",
    "        purchase_date['dd_5'] = (purchase_date['day_6'] - purchase_date['day_7']).dt.days\n",
    "        purchase_date['dd_6'] = (purchase_date['day_7'] - purchase_date['day_8']).dt.days\n",
    "        purchase_date['dd_mean'] = purchase_date.iloc[:, 9:15].mean(axis=1)\n",
    "        purchase_date['dd_std'] = purchase_date.iloc[:, 9:15].std(axis=1)\n",
    "        purchase_date['dd_max'] = purchase_date.iloc[:, 9:15].max(axis=1)\n",
    "        purchase_date['dd_min'] = purchase_date.iloc[:, 9:15].min(axis=1)\n",
    "        purchase_date['dd_range'] = purchase_date['dd_max'] - purchase_date['dd_min']\n",
    "        purchase_date['ddc_0'] = (purchase_date['day_1'] - purchase_date['day_2']).dt.days\n",
    "        purchase_date['ddc_1'] = (purchase_date['day_2'] - purchase_date['day_3']).dt.days\n",
    "        purchase_date['ddc_2'] = (purchase_date['day_2'] - purchase_date['day_4']).dt.days\n",
    "        purchase_date['ddc_3'] = (purchase_date['day_2'] - purchase_date['day_5']).dt.days\n",
    "        purchase_date['ddc_4'] = (purchase_date['day_2'] - purchase_date['day_6']).dt.days\n",
    "        purchase_date['ddc_5'] = (purchase_date['day_2'] - purchase_date['day_7']).dt.days\n",
    "        purchase_date['ddc_6'] = (purchase_date['day_2'] - purchase_date['day_8']).dt.days\n",
    "        # purchase_date['test_target'] = (purchase_date['day_1'] - purchase_date['day_2']).dt.days\n",
    "        self.predicted_df = purchase_date[['CustomerCode']]\n",
    "        # self.test_df['actual'] = 0\n",
    "        # self.test_df.loc[(self.test_df['test_target']>0) & (self.test_df['test_target']<=15), 'actual'] = 1\n",
    "        # self.test_df.loc[(self.test_df['test_target']>15) & (self.test_df['test_target']<=30), 'actual'] = 2\n",
    "        # self.test_df.loc[self.test_df['test_target'] > 30, 'actual'] = 1\n",
    "        # self.test_df = self.test_df.drop(columns=['test_target'])\n",
    "        purchase_date = purchase_date.drop(\n",
    "            columns=['day_1', 'day_2', 'day_3', 'day_4', 'day_5', 'day_6', 'day_7', 'day_8'])\n",
    "        purchase_date['target'] = 0\n",
    "        purchase_date.loc[purchase_date['dd_0'] > 30, 'target'] = 1\n",
    "        self.dd0 = purchase_date['dd_0'].to_list()\n",
    "        purchase_date = purchase_date.drop(columns=['dd_0'])\n",
    "        return purchase_date\n",
    "\n",
    "    def get_training_data(self):\n",
    "        X, y = self.purchase_date.drop('target', axis=1), self.purchase_date.target\n",
    "        customers = X['CustomerCode'].to_list()\n",
    "        X = X.drop(columns=['CustomerCode'])\n",
    "        X.insert(0, 'dd_0', self.dd0)\n",
    "        self.X_to_pred = X.drop(columns=['dd_6'])\n",
    "        X_train = X.drop(columns=['dd_0'])\n",
    "        sm = BorderlineSMOTE(random_state=1)\n",
    "        X_train, y = sm.fit_resample(X_train, y)\n",
    "        return X_train, y\n",
    "\n",
    "    def fit(self):\n",
    "        X_train, y = self.get_training_data()\n",
    "        self.xgb_model = xgb.XGBClassifier().fit(X_train, y)\n",
    "\n",
    "    def predict(self):\n",
    "        self.predicted_df['predicted'] = self.xgb_model.predict(self.X_to_pred)\n",
    "        return self.predicted_df\n",
    "\n",
    "\n",
    "def main():\n",
    "    lapse_db_util = LapseDBUtil()\n",
    "    # lapse_db_util.create_table(\"LapseMaster\")\n",
    "    # lapse_db_util.create_table(\"LapsePredictedGroup\")\n",
    "    # lapse_db_util.create_table(\"LapseDetails\")\n",
    "\n",
    "    # xl_file = pd.ExcelFile(\"../data/Customer Sales Data For AI.xlsx\", engine='openpyxl')\n",
    "    # purchase_date = pd.read_excel(xl_file, 'Trainee Data', engine='openpyxl', converters={'CustomerCode': str})\n",
    "    print('Data Loading.......\\n')\n",
    "    purchase_date = lapse_db_util.get_purchase_dates()\n",
    "    print('Data Loading Completed.......\\n')\n",
    "    dl = DataLoader(purchase_date)\n",
    "    print('Training Started.......\\n')\n",
    "    dl.fit()\n",
    "    print('Training Completed.......\\n')\n",
    "    predicted_df = dl.predict()\n",
    "    predicted_df = predicted_df[['CustomerCode', 'predicted']]\n",
    "    training_id = lapse_db_util.get_training_id()\n",
    "    predicted_df.insert(0, 'training_id', training_id)\n",
    "    predicted_df.to_csv('csv_files/predicted_df.csv', index=False)\n",
    "    master_data_df = get_master_data(training_id, pd.to_datetime(datetime.today().strftime(\"%Y-%m-%d %H:%M:%S\")), pd.to_datetime(datetime.today().strftime(\"%Y-%m-%d %H:%M:%S\")), purchase_date)\n",
    "    master_data_df.to_csv('csv_files/master_data_df.csv', index=False)\n",
    "    group_info_df = get_group_info([0, 1],\n",
    "                                   [\"Less than 30 days\", \"Greater than 30 days\"],\n",
    "                                   [datetime.today(), datetime.today()])\n",
    "    print('Writing in LapseDB.......\\n')\n",
    "    # lapse_db_util.insert(\"LapseMaster\", master_data_df)\n",
    "    # lapse_db_util.insert(\"LapsePredictedGroup\", group_info_df)\n",
    "    # lapse_db_util.insert(\"LapseDetails\", predicted_df)\n",
    "    lapse_db_util.update_lapse_customer_shopping_history(training_id)\n",
    "    print('Done.......\\n')\n",
    "\n",
    "\n",
    "if _name_ == '_main_':\n",
    "    main()"
   ]
  },
  {
   "cell_type": "code",
   "execution_count": null,
   "outputs": [],
   "source": [],
   "metadata": {
    "collapsed": false
   }
  },
  {
   "cell_type": "markdown",
   "source": [],
   "metadata": {
    "collapsed": false
   }
  },
  {
   "cell_type": "code",
   "execution_count": null,
   "outputs": [],
   "source": [],
   "metadata": {
    "collapsed": false
   }
  }
 ],
 "metadata": {
  "kernelspec": {
   "display_name": "Python 3",
   "language": "python",
   "name": "python3"
  },
  "language_info": {
   "codemirror_mode": {
    "name": "ipython",
    "version": 2
   },
   "file_extension": ".py",
   "mimetype": "text/x-python",
   "name": "python",
   "nbconvert_exporter": "python",
   "pygments_lexer": "ipython2",
   "version": "2.7.6"
  }
 },
 "nbformat": 4,
 "nbformat_minor": 0
}
